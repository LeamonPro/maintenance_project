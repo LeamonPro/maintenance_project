{
 "cells": [
  {
   "cell_type": "code",
   "execution_count": 5,
   "id": "ff5d99e8",
   "metadata": {},
   "outputs": [],
   "source": [
    "import sqlite3\n",
    "\n",
    "conn = sqlite3.connect('db.sqlite3')  # replace with your database file\n",
    "cursor = conn.cursor()\n"
   ]
  },
  {
   "cell_type": "code",
   "execution_count": 3,
   "id": "94a13c2b",
   "metadata": {},
   "outputs": [
    {
     "name": "stdout",
     "output_type": "stream",
     "text": [
      "Record inserted successfully.\n"
     ]
    }
   ],
   "source": [
    "import sqlite3\n",
    "\n",
    "# Connect to your SQLite database (creates the file if it doesn't exist)\n",
    "conn = sqlite3.connect('db.sqlite3')\n",
    "cursor = conn.cursor()\n",
    "\n",
    "# Optional: Create the table if it doesn't exist\n",
    "\n",
    "# Insert a new record\n",
    "cursor.execute('''\n",
    "    INSERT INTO api_userprofile (id,name,role, user_id)\n",
    "    VALUES (?, ? ,?,?)\n",
    "''', (3, 'Chef de Parc','user',3))\n",
    "\n",
    "# Commit the changes and close the connection\n",
    "conn.commit()\n",
    "conn.close()\n",
    "\n",
    "print(\"Record inserted successfully.\")"
   ]
  },
  {
   "cell_type": "code",
   "execution_count": 6,
   "id": "93929bfd",
   "metadata": {},
   "outputs": [
    {
     "data": {
      "text/plain": [
       "<sqlite3.Cursor at 0x28c0e5429d0>"
      ]
     },
     "execution_count": 6,
     "metadata": {},
     "output_type": "execute_result"
    }
   ],
   "source": [
    "cursor.execute(\"\"\"\n",
    "    UPDATE api_userprofile\n",
    "    SET name = ?\n",
    "    WHERE id = ?\n",
    "\"\"\", (\"user\", 3))\n"
   ]
  },
  {
   "cell_type": "code",
   "execution_count": 7,
   "id": "b23be94d",
   "metadata": {},
   "outputs": [],
   "source": [
    "conn.commit()\n"
   ]
  },
  {
   "cell_type": "code",
   "execution_count": 8,
   "id": "262cb728",
   "metadata": {},
   "outputs": [],
   "source": [
    "conn.close()\n"
   ]
  },
  {
   "cell_type": "code",
   "execution_count": null,
   "id": "d58c9697",
   "metadata": {},
   "outputs": [],
   "source": []
  },
  {
   "cell_type": "code",
   "execution_count": 12,
   "id": "f5fdbfe8",
   "metadata": {},
   "outputs": [
    {
     "data": {
      "application/vnd.microsoft.datawrangler.viewer.v0+json": {
       "columns": [
        {
         "name": "index",
         "rawType": "int64",
         "type": "integer"
        },
        {
         "name": "Unnamed: 2",
         "rawType": "object",
         "type": "unknown"
        },
        {
         "name": "Unnamed: 5",
         "rawType": "object",
         "type": "unknown"
        }
       ],
       "conversionMethod": "pd.DataFrame",
       "ref": "ce6a7284-b2e0-4cb8-9a95-87c778ea25cc",
       "rows": [
        [
         "0",
         null,
         null
        ],
        [
         "5",
         "Equipement",
         "Ordre "
        ],
        [
         "6",
         "K1",
         "MA-PCAM00012"
        ],
        [
         "8",
         "K9",
         "MA-PCAM00020"
        ],
        [
         "9",
         "ST",
         null
        ],
        [
         "10",
         "K19",
         "MA-PCAM00036"
        ],
        [
         "11",
         "D6R4",
         "MA-PBULL0015"
        ],
        [
         "14",
         "K10",
         "MA-PCAM00004"
        ],
        [
         "17",
         "REM9329",
         null
        ],
        [
         "19",
         "D6H",
         "MA-PBULL0022"
        ],
        [
         "20",
         "PR742",
         "MA-PBULL0019"
        ],
        [
         "23",
         "REM7078",
         null
        ],
        [
         "27",
         "REM14985",
         null
        ],
        [
         "31",
         "12K",
         "MA-PNIV00004"
        ],
        [
         "32",
         "K7",
         "MA-PCAM00019"
        ]
       ],
       "shape": {
        "columns": 2,
        "rows": 15
       }
      },
      "text/html": [
       "<div>\n",
       "<style scoped>\n",
       "    .dataframe tbody tr th:only-of-type {\n",
       "        vertical-align: middle;\n",
       "    }\n",
       "\n",
       "    .dataframe tbody tr th {\n",
       "        vertical-align: top;\n",
       "    }\n",
       "\n",
       "    .dataframe thead th {\n",
       "        text-align: right;\n",
       "    }\n",
       "</style>\n",
       "<table border=\"1\" class=\"dataframe\">\n",
       "  <thead>\n",
       "    <tr style=\"text-align: right;\">\n",
       "      <th></th>\n",
       "      <th>Unnamed: 2</th>\n",
       "      <th>Unnamed: 5</th>\n",
       "    </tr>\n",
       "  </thead>\n",
       "  <tbody>\n",
       "    <tr>\n",
       "      <th>0</th>\n",
       "      <td>NaN</td>\n",
       "      <td>NaN</td>\n",
       "    </tr>\n",
       "    <tr>\n",
       "      <th>5</th>\n",
       "      <td>Equipement</td>\n",
       "      <td>Ordre</td>\n",
       "    </tr>\n",
       "    <tr>\n",
       "      <th>6</th>\n",
       "      <td>K1</td>\n",
       "      <td>MA-PCAM00012</td>\n",
       "    </tr>\n",
       "    <tr>\n",
       "      <th>8</th>\n",
       "      <td>K9</td>\n",
       "      <td>MA-PCAM00020</td>\n",
       "    </tr>\n",
       "    <tr>\n",
       "      <th>9</th>\n",
       "      <td>ST</td>\n",
       "      <td>NaN</td>\n",
       "    </tr>\n",
       "    <tr>\n",
       "      <th>10</th>\n",
       "      <td>K19</td>\n",
       "      <td>MA-PCAM00036</td>\n",
       "    </tr>\n",
       "    <tr>\n",
       "      <th>11</th>\n",
       "      <td>D6R4</td>\n",
       "      <td>MA-PBULL0015</td>\n",
       "    </tr>\n",
       "    <tr>\n",
       "      <th>14</th>\n",
       "      <td>K10</td>\n",
       "      <td>MA-PCAM00004</td>\n",
       "    </tr>\n",
       "    <tr>\n",
       "      <th>17</th>\n",
       "      <td>REM9329</td>\n",
       "      <td>NaN</td>\n",
       "    </tr>\n",
       "    <tr>\n",
       "      <th>19</th>\n",
       "      <td>D6H</td>\n",
       "      <td>MA-PBULL0022</td>\n",
       "    </tr>\n",
       "    <tr>\n",
       "      <th>20</th>\n",
       "      <td>PR742</td>\n",
       "      <td>MA-PBULL0019</td>\n",
       "    </tr>\n",
       "    <tr>\n",
       "      <th>23</th>\n",
       "      <td>REM7078</td>\n",
       "      <td>NaN</td>\n",
       "    </tr>\n",
       "    <tr>\n",
       "      <th>27</th>\n",
       "      <td>REM14985</td>\n",
       "      <td>NaN</td>\n",
       "    </tr>\n",
       "    <tr>\n",
       "      <th>31</th>\n",
       "      <td>12K</td>\n",
       "      <td>MA-PNIV00004</td>\n",
       "    </tr>\n",
       "    <tr>\n",
       "      <th>32</th>\n",
       "      <td>K7</td>\n",
       "      <td>MA-PCAM00019</td>\n",
       "    </tr>\n",
       "  </tbody>\n",
       "</table>\n",
       "</div>"
      ],
      "text/plain": [
       "    Unnamed: 2    Unnamed: 5\n",
       "0          NaN           NaN\n",
       "5   Equipement        Ordre \n",
       "6           K1  MA-PCAM00012\n",
       "8           K9  MA-PCAM00020\n",
       "9           ST           NaN\n",
       "10         K19  MA-PCAM00036\n",
       "11        D6R4  MA-PBULL0015\n",
       "14         K10  MA-PCAM00004\n",
       "17     REM9329           NaN\n",
       "19         D6H  MA-PBULL0022\n",
       "20       PR742  MA-PBULL0019\n",
       "23     REM7078           NaN\n",
       "27    REM14985           NaN\n",
       "31         12K  MA-PNIV00004\n",
       "32          K7  MA-PCAM00019"
      ]
     },
     "execution_count": 12,
     "metadata": {},
     "output_type": "execute_result"
    }
   ],
   "source": [
    "distinct_couples"
   ]
  },
  {
   "cell_type": "code",
   "execution_count": 8,
   "id": "a0dd8116",
   "metadata": {},
   "outputs": [
    {
     "name": "stdout",
     "output_type": "stream",
     "text": [
      "Record inserted successfully.\n"
     ]
    }
   ],
   "source": [
    "import sqlite3\n",
    "\n",
    "# Connect to your SQLite database (creates the file if it doesn't exist)\n",
    "conn = sqlite3.connect('db.sqlite3')\n",
    "cursor = conn.cursor()\n",
    "\n",
    "# Optional: Create the table if it doesn't exist\n",
    "\n",
    "# Insert a new record\n",
    "cursor.execute('''\n",
    "    INSERT INTO api_ordreimputation (id_ordre, value)\n",
    "    VALUES (?, ? )\n",
    "''', ('K1', 'MA-PCAM00012'))\n",
    "\n",
    "# Commit the changes and close the connection\n",
    "conn.commit()\n",
    "conn.close()\n",
    "\n",
    "print(\"Record inserted successfully.\")\n"
   ]
  },
  {
   "cell_type": "code",
   "execution_count": 15,
   "id": "76abb391",
   "metadata": {},
   "outputs": [],
   "source": [
    "import pandas as pd"
   ]
  },
  {
   "cell_type": "code",
   "execution_count": 16,
   "id": "bfd1aef3",
   "metadata": {},
   "outputs": [],
   "source": [
    "df1=pd.read_excel(\"Gestion.xlsx\")"
   ]
  },
  {
   "cell_type": "code",
   "execution_count": 17,
   "id": "6e48856c",
   "metadata": {},
   "outputs": [
    {
     "data": {
      "application/vnd.microsoft.datawrangler.viewer.v0+json": {
       "columns": [
        {
         "name": "index",
         "rawType": "int64",
         "type": "integer"
        },
        {
         "name": "Unnamed: 0",
         "rawType": "float64",
         "type": "float"
        },
        {
         "name": "Unnamed: 1",
         "rawType": "object",
         "type": "unknown"
        },
        {
         "name": "Unnamed: 2",
         "rawType": "object",
         "type": "unknown"
        },
        {
         "name": "Unnamed: 3",
         "rawType": "float64",
         "type": "float"
        },
        {
         "name": "Unnamed: 4",
         "rawType": "object",
         "type": "unknown"
        },
        {
         "name": "Unnamed: 5",
         "rawType": "object",
         "type": "unknown"
        },
        {
         "name": "Unnamed: 6",
         "rawType": "object",
         "type": "unknown"
        },
        {
         "name": "Unnamed: 7",
         "rawType": "object",
         "type": "unknown"
        },
        {
         "name": "Unnamed: 8",
         "rawType": "object",
         "type": "unknown"
        },
        {
         "name": "Unnamed: 9",
         "rawType": "object",
         "type": "unknown"
        },
        {
         "name": "Unnamed: 10",
         "rawType": "object",
         "type": "unknown"
        },
        {
         "name": "Unnamed: 11",
         "rawType": "object",
         "type": "unknown"
        }
       ],
       "conversionMethod": "pd.DataFrame",
       "ref": "50136338-2daa-4675-812f-68f9f71bdf39",
       "rows": [
        [
         "0",
         null,
         "RAPPORT JOURNALIER MAINTENANCE PARC SFAX",
         null,
         null,
         null,
         null,
         null,
         null,
         null,
         null,
         null,
         null
        ],
        [
         "1",
         null,
         null,
         null,
         null,
         null,
         null,
         null,
         null,
         null,
         null,
         null,
         null
        ],
        [
         "2",
         null,
         null,
         null,
         null,
         null,
         null,
         null,
         null,
         null,
         null,
         null,
         "2025-05-09 00:00:00"
        ],
        [
         "3",
         null,
         null,
         null,
         null,
         null,
         null,
         null,
         null,
         null,
         null,
         null,
         null
        ],
        [
         "4",
         null,
         null,
         null,
         null,
         null,
         null,
         null,
         null,
         null,
         null,
         null,
         null
        ],
        [
         "5",
         null,
         "N°",
         "Equipement",
         null,
         "Date",
         "Ordre ",
         "Description du Travail",
         "Responsable",
         "Sous traitant ",
         "HEURE DEPART",
         "HEURE CLOTURE ",
         "Observations"
        ],
        [
         "6",
         null,
         "1",
         "K1",
         null,
         "2024-11-25 00:00:00",
         "MA-PCAM00012",
         "REGLAGE FREIN ET BOUTON ",
         "ALI BEN SAAD",
         "TECHNOFREIN ",
         "08:00:00",
         "09:00:00",
         "01:00:00"
        ],
        [
         "7",
         null,
         "2",
         "K1",
         null,
         "2024-11-25 00:00:00",
         "MA-PCAM00012",
         "SERRAGE DE ROUE AR G",
         "MARWEN",
         "ATELIER",
         "12:21:00",
         "12:35:00",
         "00:14:00"
        ],
        [
         "8",
         null,
         "3",
         "K9",
         null,
         "2024-11-25 00:00:00",
         "MA-PCAM00020",
         "MONTAGE COUVERCLE FILTRE A AIRE",
         "KAIS",
         "ATELIER",
         "19:54:00",
         "20:05:00",
         "00:11:00"
        ],
        [
         "9",
         null,
         "4",
         "ST",
         null,
         "2024-11-25 00:00:00",
         null,
         "DEPART CHARGEMENT",
         "CHEOUR",
         "ATELIER",
         "20:15:00",
         null,
         "1899-12-29 03:45:00"
        ],
        [
         "10",
         null,
         "5",
         "K19",
         null,
         "2024-11-25 00:00:00",
         "MA-PCAM00036",
         "VERIFICATION FIN DE COURSE",
         "LAZHER",
         "ATELIER",
         "23:15:00",
         "23:26:00",
         "00:11:00"
        ],
        [
         "11",
         null,
         "6",
         "D6R4",
         null,
         "2024-11-25 00:00:00",
         "MA-PBULL0015",
         "FUITE D'EAU",
         "TAHER",
         "ATELIER",
         "23:20:00",
         "2024-11-26 00:30:00",
         "2024-11-25 01:10:00"
        ],
        [
         "12",
         null,
         "7",
         "K19",
         null,
         "2024-11-26 00:00:00",
         "MA-PCAM00036",
         "VERIFICATION SECURITE BENNE ",
         "LAZHER",
         "ATELIER",
         "00:40:00",
         "01:40:00",
         "01:00:00"
        ],
        [
         "13",
         null,
         "8",
         "K1",
         null,
         "2024-11-26 00:00:00",
         "MA-PCAM00012",
         "REPARATION FUITE D'AIR PRISE DE FORCE",
         "MARWEN",
         "ATELIER",
         "02:45:00",
         "03:15:00",
         "00:30:00"
        ],
        [
         "14",
         null,
         "9",
         "K10",
         null,
         "2024-11-26 00:00:00",
         "MA-PCAM00004",
         "REPARATION INDICATEUR TEMPERATURE",
         "NACEUR",
         "ATELIER",
         "04:20:00",
         "04:45:00",
         "00:25:00"
        ],
        [
         "15",
         null,
         "10",
         "K1",
         null,
         "2024-11-26 00:00:00",
         "MA-PCAM00012",
         "SERRAGE ROUE",
         "ALI BEN SAAD",
         "ATELIER",
         "09:00:00",
         "09:20:00",
         "00:20:00"
        ],
        [
         "16",
         null,
         "11",
         "K19",
         null,
         "2024-11-26 00:00:00",
         "MA-PCAM00036",
         "AJOUT HUILE BENNE 25L",
         "NEJI",
         "ATELIER",
         "07:00:00",
         "07:35:00",
         "00:35:00"
        ],
        [
         "17",
         null,
         "12",
         "REM9329",
         null,
         "2024-11-26 00:00:00",
         null,
         "SERRAGE ROUE",
         "ABDELHAMID",
         "ATELIER",
         "08:30:00",
         "09:10:00",
         "00:40:00"
        ],
        [
         "18",
         null,
         "13",
         "K1",
         null,
         "2024-11-26 00:00:00",
         "MA-PCAM00012",
         "REMPLACEMENT ROUE +GOUJON ROUE ",
         "ALI BEN SAAD",
         "ATELIER",
         "11:25:00",
         "12:35:00",
         "01:10:00"
        ],
        [
         "19",
         null,
         "14",
         "D6H",
         null,
         "2024-11-26 00:00:00",
         "MA-PBULL0022",
         "REPARATION LAME",
         "AZAIZ",
         "ATELIER",
         "06:00:00",
         "07:30:00",
         "01:30:00"
        ],
        [
         "20",
         null,
         "15",
         "PR742",
         null,
         "2024-11-26 00:00:00",
         "MA-PBULL0019",
         "GRAISSAGE LIFETIME",
         "IMED",
         "ATELIER",
         null,
         null,
         "00:00:00"
        ],
        [
         "21",
         null,
         "16",
         "K19",
         null,
         "2024-11-26 00:00:00",
         "MA-PCAM00036",
         "LAVAGE BENNE ",
         "NEJI",
         "ATELIER",
         "17:05:00",
         "17:30:00",
         "00:25:00"
        ],
        [
         "22",
         null,
         "17",
         "D6R4",
         null,
         "2024-11-26 00:00:00",
         "MA-PBULL0015",
         "RAVITAILLEMENT",
         "IMED",
         "ATELIER",
         "14:00:00",
         "15:00:00",
         "01:00:00"
        ],
        [
         "23",
         null,
         "18",
         "REM7078",
         null,
         "2024-11-26 00:00:00",
         null,
         "CHANGEMENT VALVE D'AIR",
         "KAIS",
         "ATELIER",
         "10:00:00",
         "18:00:00",
         "08:00:00"
        ],
        [
         "24",
         null,
         "19",
         "K19",
         null,
         "2024-11-26 00:00:00",
         "MA-PCAM00036",
         "PROBLEME DE BASCULEMENT DE LA BENNE ",
         "LAZHER",
         "ATELIER",
         "19:40:00",
         "19:40:00",
         "00:00:00"
        ],
        [
         "25",
         null,
         "20",
         "D6R4",
         null,
         "2024-11-26 00:00:00",
         "MA-PBULL0015",
         "FUITE D'UILE POMPE HP",
         "TAHER",
         "ATELIER",
         "21:00:00",
         "22:30:00",
         "01:30:00"
        ],
        [
         "26",
         null,
         "21",
         "K1",
         null,
         "2024-11-26 00:00:00",
         "MA-PCAM00012",
         "AJOUT HUILE HYDRAULIQUE BENNE ",
         "LAZHER",
         "ATELIER",
         "22:50:00",
         "23:00:00",
         "00:10:00"
        ],
        [
         "27",
         null,
         "22",
         "REM14985",
         null,
         "2024-11-27 00:00:00",
         null,
         "REPARATION SECURITE REMPLACEMENT CAPTEUR",
         "LAZHER",
         "ATELIER",
         "00:20:00",
         "01:00:00",
         "00:40:00"
        ],
        [
         "28",
         null,
         "23",
         "PR742",
         null,
         "2024-11-27 00:00:00",
         "MA-PBULL0019",
         "MONTAGE 2 VIS ECROUS FIXATION RADIATEUR ",
         "MARWEN",
         "ATELIER",
         "00:25:00",
         "00:40:00",
         "00:15:00"
        ],
        [
         "29",
         null,
         "24",
         "REM9329",
         null,
         "2024-11-27 00:00:00",
         null,
         "REMPLACEMENT ROUE ",
         "NACEUR",
         "ATELIER",
         "02:00:00",
         "02:30:00",
         "00:30:00"
        ],
        [
         "30",
         null,
         "25",
         "ST",
         null,
         "2024-11-27 00:00:00",
         null,
         "PANNE",
         "AHMED",
         "ATELIER",
         "03:30:00",
         "11:00:00",
         "07:30:00"
        ],
        [
         "31",
         null,
         "26",
         "12K",
         null,
         "2024-11-27 00:00:00",
         "MA-PNIV00004",
         "VIDANGE 200H",
         "KAIS",
         "ATELIER",
         null,
         null,
         "00:00:00"
        ],
        [
         "32",
         null,
         "   ",
         "K7",
         null,
         "2024-11-27 00:00:00",
         "MA-PCAM00019",
         "CHANGEMENT RESSORT LAME AR G ET D",
         "MAKREM",
         "CHAARI",
         "12:00:00",
         "12:00:00",
         "00:00:00"
        ],
        [
         "33",
         null,
         "28",
         "K19",
         null,
         "2024-11-23 00:00:00",
         "MA-PCAM00036",
         "REPARATION VERIN OUVERTURE RIDELLE",
         "MAKREM",
         "ATELIER",
         null,
         null,
         "00:00:00"
        ],
        [
         "34",
         null,
         "29",
         "K1",
         null,
         "2024-11-27 00:00:00",
         "MA-PCAM00012",
         "SERRAGE DE ROUE",
         "ALI BEN SAAD",
         "ATELIER",
         "06:30:00",
         "07:00:00",
         "00:30:00"
        ],
        [
         "35",
         null,
         "30",
         "K10",
         null,
         "2024-11-27 00:00:00",
         "MA-PCAM00004",
         "REMPLACEMENT RACCORD RAPIDE SERVO",
         "AYMEN",
         null,
         "06:45:00",
         "07:00:00",
         "00:15:00"
        ],
        [
         "36",
         null,
         "31",
         "K10",
         null,
         "2024-11-27 00:00:00",
         "MA-PCAM00004",
         "REPARATION FUITE EAU",
         null,
         null,
         "11:25:00",
         "12:20:00",
         "00:55:00"
        ],
        [
         "37",
         null,
         "32",
         "K1",
         null,
         "2024-11-27 00:00:00",
         "MA-PCAM00012",
         "RACCORD RAPIDE ",
         "ALI BEN SAAD",
         null,
         "12:10:00",
         "12:25:00",
         "00:15:00"
        ],
        [
         "38",
         null,
         null,
         null,
         null,
         null,
         null,
         null,
         null,
         null,
         null,
         null,
         "00:00:00"
        ],
        [
         "39",
         null,
         null,
         null,
         null,
         null,
         null,
         null,
         null,
         null,
         null,
         null,
         "1900-01-01 02:10:00"
        ],
        [
         "40",
         null,
         null,
         null,
         null,
         null,
         null,
         null,
         null,
         null,
         null,
         null,
         null
        ],
        [
         "41",
         null,
         null,
         null,
         null,
         null,
         null,
         null,
         null,
         null,
         null,
         null,
         null
        ],
        [
         "42",
         null,
         null,
         null,
         null,
         null,
         null,
         null,
         null,
         null,
         null,
         null,
         null
        ],
        [
         "43",
         null,
         null,
         null,
         null,
         null,
         null,
         null,
         null,
         null,
         null,
         null,
         null
        ],
        [
         "44",
         null,
         null,
         null,
         null,
         null,
         null,
         null,
         null,
         null,
         null,
         null,
         null
        ],
        [
         "45",
         null,
         null,
         null,
         null,
         null,
         null,
         null,
         null,
         null,
         null,
         null,
         null
        ],
        [
         "46",
         null,
         null,
         null,
         null,
         null,
         null,
         null,
         null,
         null,
         null,
         null,
         null
        ],
        [
         "47",
         null,
         null,
         null,
         null,
         null,
         null,
         null,
         null,
         null,
         null,
         null,
         null
        ],
        [
         "48",
         null,
         null,
         null,
         null,
         null,
         null,
         null,
         null,
         null,
         null,
         null,
         null
        ],
        [
         "49",
         null,
         null,
         null,
         null,
         null,
         null,
         null,
         null,
         null,
         null,
         null,
         null
        ]
       ],
       "shape": {
        "columns": 12,
        "rows": 557
       }
      },
      "text/html": [
       "<div>\n",
       "<style scoped>\n",
       "    .dataframe tbody tr th:only-of-type {\n",
       "        vertical-align: middle;\n",
       "    }\n",
       "\n",
       "    .dataframe tbody tr th {\n",
       "        vertical-align: top;\n",
       "    }\n",
       "\n",
       "    .dataframe thead th {\n",
       "        text-align: right;\n",
       "    }\n",
       "</style>\n",
       "<table border=\"1\" class=\"dataframe\">\n",
       "  <thead>\n",
       "    <tr style=\"text-align: right;\">\n",
       "      <th></th>\n",
       "      <th>Unnamed: 0</th>\n",
       "      <th>Unnamed: 1</th>\n",
       "      <th>Unnamed: 2</th>\n",
       "      <th>Unnamed: 3</th>\n",
       "      <th>Unnamed: 4</th>\n",
       "      <th>Unnamed: 5</th>\n",
       "      <th>Unnamed: 6</th>\n",
       "      <th>Unnamed: 7</th>\n",
       "      <th>Unnamed: 8</th>\n",
       "      <th>Unnamed: 9</th>\n",
       "      <th>Unnamed: 10</th>\n",
       "      <th>Unnamed: 11</th>\n",
       "    </tr>\n",
       "  </thead>\n",
       "  <tbody>\n",
       "    <tr>\n",
       "      <th>0</th>\n",
       "      <td>NaN</td>\n",
       "      <td>RAPPORT JOURNALIER MAINTENANCE PARC SFAX</td>\n",
       "      <td>NaN</td>\n",
       "      <td>NaN</td>\n",
       "      <td>NaN</td>\n",
       "      <td>NaN</td>\n",
       "      <td>NaN</td>\n",
       "      <td>NaN</td>\n",
       "      <td>NaN</td>\n",
       "      <td>NaN</td>\n",
       "      <td>NaN</td>\n",
       "      <td>NaN</td>\n",
       "    </tr>\n",
       "    <tr>\n",
       "      <th>1</th>\n",
       "      <td>NaN</td>\n",
       "      <td>NaN</td>\n",
       "      <td>NaN</td>\n",
       "      <td>NaN</td>\n",
       "      <td>NaN</td>\n",
       "      <td>NaN</td>\n",
       "      <td>NaN</td>\n",
       "      <td>NaN</td>\n",
       "      <td>NaN</td>\n",
       "      <td>NaN</td>\n",
       "      <td>NaN</td>\n",
       "      <td>NaN</td>\n",
       "    </tr>\n",
       "    <tr>\n",
       "      <th>2</th>\n",
       "      <td>NaN</td>\n",
       "      <td>NaN</td>\n",
       "      <td>NaN</td>\n",
       "      <td>NaN</td>\n",
       "      <td>NaN</td>\n",
       "      <td>NaN</td>\n",
       "      <td>NaN</td>\n",
       "      <td>NaN</td>\n",
       "      <td>NaN</td>\n",
       "      <td>NaN</td>\n",
       "      <td>NaN</td>\n",
       "      <td>2025-05-09 00:00:00</td>\n",
       "    </tr>\n",
       "    <tr>\n",
       "      <th>3</th>\n",
       "      <td>NaN</td>\n",
       "      <td>NaN</td>\n",
       "      <td>NaN</td>\n",
       "      <td>NaN</td>\n",
       "      <td>NaN</td>\n",
       "      <td>NaN</td>\n",
       "      <td>NaN</td>\n",
       "      <td>NaN</td>\n",
       "      <td>NaN</td>\n",
       "      <td>NaN</td>\n",
       "      <td>NaN</td>\n",
       "      <td>NaN</td>\n",
       "    </tr>\n",
       "    <tr>\n",
       "      <th>4</th>\n",
       "      <td>NaN</td>\n",
       "      <td>NaN</td>\n",
       "      <td>NaN</td>\n",
       "      <td>NaN</td>\n",
       "      <td>NaN</td>\n",
       "      <td>NaN</td>\n",
       "      <td>NaN</td>\n",
       "      <td>NaN</td>\n",
       "      <td>NaN</td>\n",
       "      <td>NaN</td>\n",
       "      <td>NaN</td>\n",
       "      <td>NaN</td>\n",
       "    </tr>\n",
       "    <tr>\n",
       "      <th>...</th>\n",
       "      <td>...</td>\n",
       "      <td>...</td>\n",
       "      <td>...</td>\n",
       "      <td>...</td>\n",
       "      <td>...</td>\n",
       "      <td>...</td>\n",
       "      <td>...</td>\n",
       "      <td>...</td>\n",
       "      <td>...</td>\n",
       "      <td>...</td>\n",
       "      <td>...</td>\n",
       "      <td>...</td>\n",
       "    </tr>\n",
       "    <tr>\n",
       "      <th>552</th>\n",
       "      <td>NaN</td>\n",
       "      <td>NaN</td>\n",
       "      <td>NaN</td>\n",
       "      <td>NaN</td>\n",
       "      <td>NaN</td>\n",
       "      <td>NaN</td>\n",
       "      <td>NaN</td>\n",
       "      <td>NaN</td>\n",
       "      <td>NaN</td>\n",
       "      <td>NaN</td>\n",
       "      <td>NaN</td>\n",
       "      <td>NaN</td>\n",
       "    </tr>\n",
       "    <tr>\n",
       "      <th>553</th>\n",
       "      <td>NaN</td>\n",
       "      <td>NaN</td>\n",
       "      <td>NaN</td>\n",
       "      <td>NaN</td>\n",
       "      <td>NaN</td>\n",
       "      <td>NaN</td>\n",
       "      <td>NaN</td>\n",
       "      <td>NaN</td>\n",
       "      <td>NaN</td>\n",
       "      <td>NaN</td>\n",
       "      <td>NaN</td>\n",
       "      <td>NaN</td>\n",
       "    </tr>\n",
       "    <tr>\n",
       "      <th>554</th>\n",
       "      <td>NaN</td>\n",
       "      <td>NaN</td>\n",
       "      <td>NaN</td>\n",
       "      <td>NaN</td>\n",
       "      <td>NaN</td>\n",
       "      <td>NaN</td>\n",
       "      <td>NaN</td>\n",
       "      <td>NaN</td>\n",
       "      <td>NaN</td>\n",
       "      <td>NaN</td>\n",
       "      <td>NaN</td>\n",
       "      <td>NaN</td>\n",
       "    </tr>\n",
       "    <tr>\n",
       "      <th>555</th>\n",
       "      <td>NaN</td>\n",
       "      <td>NaN</td>\n",
       "      <td>NaN</td>\n",
       "      <td>NaN</td>\n",
       "      <td>NaN</td>\n",
       "      <td>NaN</td>\n",
       "      <td>NaN</td>\n",
       "      <td>NaN</td>\n",
       "      <td>NaN</td>\n",
       "      <td>NaN</td>\n",
       "      <td>NaN</td>\n",
       "      <td>NaN</td>\n",
       "    </tr>\n",
       "    <tr>\n",
       "      <th>556</th>\n",
       "      <td>NaN</td>\n",
       "      <td>NaN</td>\n",
       "      <td>NaN</td>\n",
       "      <td>NaN</td>\n",
       "      <td>NaN</td>\n",
       "      <td>NaN</td>\n",
       "      <td>NaN</td>\n",
       "      <td>NaN</td>\n",
       "      <td>NaN</td>\n",
       "      <td>NaN</td>\n",
       "      <td>NaN</td>\n",
       "      <td>NaN</td>\n",
       "    </tr>\n",
       "  </tbody>\n",
       "</table>\n",
       "<p>557 rows × 12 columns</p>\n",
       "</div>"
      ],
      "text/plain": [
       "     Unnamed: 0                                Unnamed: 1 Unnamed: 2  \\\n",
       "0           NaN  RAPPORT JOURNALIER MAINTENANCE PARC SFAX        NaN   \n",
       "1           NaN                                       NaN        NaN   \n",
       "2           NaN                                       NaN        NaN   \n",
       "3           NaN                                       NaN        NaN   \n",
       "4           NaN                                       NaN        NaN   \n",
       "..          ...                                       ...        ...   \n",
       "552         NaN                                       NaN        NaN   \n",
       "553         NaN                                       NaN        NaN   \n",
       "554         NaN                                       NaN        NaN   \n",
       "555         NaN                                       NaN        NaN   \n",
       "556         NaN                                       NaN        NaN   \n",
       "\n",
       "     Unnamed: 3 Unnamed: 4 Unnamed: 5 Unnamed: 6 Unnamed: 7 Unnamed: 8  \\\n",
       "0           NaN        NaN        NaN        NaN        NaN        NaN   \n",
       "1           NaN        NaN        NaN        NaN        NaN        NaN   \n",
       "2           NaN        NaN        NaN        NaN        NaN        NaN   \n",
       "3           NaN        NaN        NaN        NaN        NaN        NaN   \n",
       "4           NaN        NaN        NaN        NaN        NaN        NaN   \n",
       "..          ...        ...        ...        ...        ...        ...   \n",
       "552         NaN        NaN        NaN        NaN        NaN        NaN   \n",
       "553         NaN        NaN        NaN        NaN        NaN        NaN   \n",
       "554         NaN        NaN        NaN        NaN        NaN        NaN   \n",
       "555         NaN        NaN        NaN        NaN        NaN        NaN   \n",
       "556         NaN        NaN        NaN        NaN        NaN        NaN   \n",
       "\n",
       "    Unnamed: 9 Unnamed: 10          Unnamed: 11  \n",
       "0          NaN         NaN                  NaN  \n",
       "1          NaN         NaN                  NaN  \n",
       "2          NaN         NaN  2025-05-09 00:00:00  \n",
       "3          NaN         NaN                  NaN  \n",
       "4          NaN         NaN                  NaN  \n",
       "..         ...         ...                  ...  \n",
       "552        NaN         NaN                  NaN  \n",
       "553        NaN         NaN                  NaN  \n",
       "554        NaN         NaN                  NaN  \n",
       "555        NaN         NaN                  NaN  \n",
       "556        NaN         NaN                  NaN  \n",
       "\n",
       "[557 rows x 12 columns]"
      ]
     },
     "execution_count": 17,
     "metadata": {},
     "output_type": "execute_result"
    }
   ],
   "source": [
    "df1"
   ]
  },
  {
   "cell_type": "code",
   "execution_count": 18,
   "id": "b1bcbeef",
   "metadata": {},
   "outputs": [],
   "source": [
    "distinct_couples = df1[[\"Unnamed: 2\", \"Unnamed: 5\"]].drop_duplicates()"
   ]
  },
  {
   "cell_type": "code",
   "execution_count": null,
   "id": "c3596f0c",
   "metadata": {},
   "outputs": [
    {
     "data": {
      "application/vnd.microsoft.datawrangler.viewer.v0+json": {
       "columns": [
        {
         "name": "index",
         "rawType": "int64",
         "type": "integer"
        },
        {
         "name": "Unnamed: 2",
         "rawType": "object",
         "type": "unknown"
        },
        {
         "name": "Unnamed: 5",
         "rawType": "object",
         "type": "unknown"
        }
       ],
       "conversionMethod": "pd.DataFrame",
       "ref": "0fa0d91c-ae8a-4ffa-aca5-660be56b5322",
       "rows": [
        [
         "0",
         null,
         null
        ],
        [
         "5",
         "Equipement",
         "Ordre "
        ],
        [
         "6",
         "K1",
         "MA-PCAM00012"
        ],
        [
         "8",
         "K9",
         "MA-PCAM00020"
        ],
        [
         "9",
         "ST",
         null
        ],
        [
         "10",
         "K19",
         "MA-PCAM00036"
        ],
        [
         "11",
         "D6R4",
         "MA-PBULL0015"
        ],
        [
         "14",
         "K10",
         "MA-PCAM00004"
        ],
        [
         "17",
         "REM9329",
         null
        ],
        [
         "19",
         "D6H",
         "MA-PBULL0022"
        ],
        [
         "20",
         "PR742",
         "MA-PBULL0019"
        ],
        [
         "23",
         "REM7078",
         null
        ],
        [
         "27",
         "REM14985",
         null
        ],
        [
         "31",
         "12K",
         "MA-PNIV00004"
        ],
        [
         "32",
         "K7",
         "MA-PCAM00019"
        ]
       ],
       "shape": {
        "columns": 2,
        "rows": 15
       }
      },
      "text/html": [
       "<div>\n",
       "<style scoped>\n",
       "    .dataframe tbody tr th:only-of-type {\n",
       "        vertical-align: middle;\n",
       "    }\n",
       "\n",
       "    .dataframe tbody tr th {\n",
       "        vertical-align: top;\n",
       "    }\n",
       "\n",
       "    .dataframe thead th {\n",
       "        text-align: right;\n",
       "    }\n",
       "</style>\n",
       "<table border=\"1\" class=\"dataframe\">\n",
       "  <thead>\n",
       "    <tr style=\"text-align: right;\">\n",
       "      <th></th>\n",
       "      <th>Unnamed: 2</th>\n",
       "      <th>Unnamed: 5</th>\n",
       "    </tr>\n",
       "  </thead>\n",
       "  <tbody>\n",
       "    <tr>\n",
       "      <th>0</th>\n",
       "      <td>NaN</td>\n",
       "      <td>NaN</td>\n",
       "    </tr>\n",
       "    <tr>\n",
       "      <th>5</th>\n",
       "      <td>Equipement</td>\n",
       "      <td>Ordre</td>\n",
       "    </tr>\n",
       "    <tr>\n",
       "      <th>6</th>\n",
       "      <td>K1</td>\n",
       "      <td>MA-PCAM00012</td>\n",
       "    </tr>\n",
       "    <tr>\n",
       "      <th>8</th>\n",
       "      <td>K9</td>\n",
       "      <td>MA-PCAM00020</td>\n",
       "    </tr>\n",
       "    <tr>\n",
       "      <th>9</th>\n",
       "      <td>ST</td>\n",
       "      <td>NaN</td>\n",
       "    </tr>\n",
       "    <tr>\n",
       "      <th>10</th>\n",
       "      <td>K19</td>\n",
       "      <td>MA-PCAM00036</td>\n",
       "    </tr>\n",
       "    <tr>\n",
       "      <th>11</th>\n",
       "      <td>D6R4</td>\n",
       "      <td>MA-PBULL0015</td>\n",
       "    </tr>\n",
       "    <tr>\n",
       "      <th>14</th>\n",
       "      <td>K10</td>\n",
       "      <td>MA-PCAM00004</td>\n",
       "    </tr>\n",
       "    <tr>\n",
       "      <th>17</th>\n",
       "      <td>REM9329</td>\n",
       "      <td>NaN</td>\n",
       "    </tr>\n",
       "    <tr>\n",
       "      <th>19</th>\n",
       "      <td>D6H</td>\n",
       "      <td>MA-PBULL0022</td>\n",
       "    </tr>\n",
       "    <tr>\n",
       "      <th>20</th>\n",
       "      <td>PR742</td>\n",
       "      <td>MA-PBULL0019</td>\n",
       "    </tr>\n",
       "    <tr>\n",
       "      <th>23</th>\n",
       "      <td>REM7078</td>\n",
       "      <td>NaN</td>\n",
       "    </tr>\n",
       "    <tr>\n",
       "      <th>27</th>\n",
       "      <td>REM14985</td>\n",
       "      <td>NaN</td>\n",
       "    </tr>\n",
       "    <tr>\n",
       "      <th>31</th>\n",
       "      <td>12K</td>\n",
       "      <td>MA-PNIV00004</td>\n",
       "    </tr>\n",
       "    <tr>\n",
       "      <th>32</th>\n",
       "      <td>K7</td>\n",
       "      <td>MA-PCAM00019</td>\n",
       "    </tr>\n",
       "  </tbody>\n",
       "</table>\n",
       "</div>"
      ],
      "text/plain": [
       "    Unnamed: 2    Unnamed: 5\n",
       "0          NaN           NaN\n",
       "5   Equipement        Ordre \n",
       "6           K1  MA-PCAM00012\n",
       "8           K9  MA-PCAM00020\n",
       "9           ST           NaN\n",
       "10         K19  MA-PCAM00036\n",
       "11        D6R4  MA-PBULL0015\n",
       "14         K10  MA-PCAM00004\n",
       "17     REM9329           NaN\n",
       "19         D6H  MA-PBULL0022\n",
       "20       PR742  MA-PBULL0019\n",
       "23     REM7078           NaN\n",
       "27    REM14985           NaN\n",
       "31         12K  MA-PNIV00004\n",
       "32          K7  MA-PCAM00019"
      ]
     },
     "execution_count": 19,
     "metadata": {},
     "output_type": "execute_result"
    }
   ],
   "source": [
    "distinct_couples=distinct_couples."
   ]
  },
  {
   "cell_type": "code",
   "execution_count": 33,
   "id": "52f73c74",
   "metadata": {},
   "outputs": [
    {
     "name": "stderr",
     "output_type": "stream",
     "text": [
      "'lsof' n'est pas reconnu en tant que commande interne\n",
      "ou externe, un programme ex�cutable ou un fichier de commandes.\n"
     ]
    }
   ],
   "source": [
    "!lsof | grep db.sqlite3\n"
   ]
  },
  {
   "cell_type": "code",
   "execution_count": 24,
   "id": "72921d19",
   "metadata": {},
   "outputs": [
    {
     "name": "stdout",
     "output_type": "stream",
     "text": [
      "Inserted: K1 | MA-PCAM00012\n",
      "Inserted: K9 | MA-PCAM00020\n",
      "Inserted: K19 | MA-PCAM00036\n",
      "Inserted: D6R4 | MA-PBULL0015\n",
      "Inserted: K10 | MA-PCAM00004\n",
      "Inserted: D6H | MA-PBULL0022\n",
      "Inserted: PR742 | MA-PBULL0019\n",
      "Inserted: 12K | MA-PNIV00004\n",
      "Inserted: K7 | MA-PCAM00019\n"
     ]
    }
   ],
   "source": [
    "import pandas as pd\n",
    "import sqlite3\n",
    "import time\n",
    "\n",
    "\n",
    "# Open the connection\n",
    "conn = sqlite3.connect('db.sqlite3', timeout=10)  # Increase timeout\n",
    "cursor = conn.cursor()\n",
    "\n",
    "\n",
    "# Insert with retry\n",
    "for index, row in distinct_couples.iterrows():\n",
    "    for attempt in range(3):  # try 3 times\n",
    "        try:\n",
    "            cursor.execute('''\n",
    "                INSERT INTO api_ordreimputation (id_ordre, value)\n",
    "                VALUES (?, ?)\n",
    "            ''', (row[\"Unnamed: 2\"], row[\"Unnamed: 5\"]))\n",
    "            print(f\"Inserted: {row['Unnamed: 2']} | {row['Unnamed: 5']}\")\n",
    "            break\n",
    "        except sqlite3.OperationalError as e:\n",
    "            if \"locked\" in str(e):\n",
    "                print(\"Database is locked. Retrying...\")\n",
    "                time.sleep(1)\n",
    "            else:\n",
    "                raise\n",
    "\n",
    "# Commit & close\n",
    "conn.commit()\n",
    "conn.close()\n"
   ]
  },
  {
   "cell_type": "code",
   "execution_count": 20,
   "id": "2346632a",
   "metadata": {},
   "outputs": [],
   "source": [
    "distinct_couples=distinct_couples.dropna()"
   ]
  },
  {
   "cell_type": "code",
   "execution_count": 21,
   "id": "c3e51d82",
   "metadata": {},
   "outputs": [],
   "source": [
    "distinct_couples=distinct_couples.iloc[1:,:]"
   ]
  },
  {
   "cell_type": "code",
   "execution_count": 22,
   "id": "4bce1b2a",
   "metadata": {},
   "outputs": [
    {
     "data": {
      "application/vnd.microsoft.datawrangler.viewer.v0+json": {
       "columns": [
        {
         "name": "index",
         "rawType": "int64",
         "type": "integer"
        },
        {
         "name": "Unnamed: 2",
         "rawType": "object",
         "type": "string"
        },
        {
         "name": "Unnamed: 5",
         "rawType": "object",
         "type": "string"
        }
       ],
       "conversionMethod": "pd.DataFrame",
       "ref": "015d3660-6e1b-4bf1-830e-9cb02ef2f972",
       "rows": [
        [
         "6",
         "K1",
         "MA-PCAM00012"
        ],
        [
         "8",
         "K9",
         "MA-PCAM00020"
        ],
        [
         "10",
         "K19",
         "MA-PCAM00036"
        ],
        [
         "11",
         "D6R4",
         "MA-PBULL0015"
        ],
        [
         "14",
         "K10",
         "MA-PCAM00004"
        ],
        [
         "19",
         "D6H",
         "MA-PBULL0022"
        ],
        [
         "20",
         "PR742",
         "MA-PBULL0019"
        ],
        [
         "31",
         "12K",
         "MA-PNIV00004"
        ],
        [
         "32",
         "K7",
         "MA-PCAM00019"
        ]
       ],
       "shape": {
        "columns": 2,
        "rows": 9
       }
      },
      "text/html": [
       "<div>\n",
       "<style scoped>\n",
       "    .dataframe tbody tr th:only-of-type {\n",
       "        vertical-align: middle;\n",
       "    }\n",
       "\n",
       "    .dataframe tbody tr th {\n",
       "        vertical-align: top;\n",
       "    }\n",
       "\n",
       "    .dataframe thead th {\n",
       "        text-align: right;\n",
       "    }\n",
       "</style>\n",
       "<table border=\"1\" class=\"dataframe\">\n",
       "  <thead>\n",
       "    <tr style=\"text-align: right;\">\n",
       "      <th></th>\n",
       "      <th>Unnamed: 2</th>\n",
       "      <th>Unnamed: 5</th>\n",
       "    </tr>\n",
       "  </thead>\n",
       "  <tbody>\n",
       "    <tr>\n",
       "      <th>6</th>\n",
       "      <td>K1</td>\n",
       "      <td>MA-PCAM00012</td>\n",
       "    </tr>\n",
       "    <tr>\n",
       "      <th>8</th>\n",
       "      <td>K9</td>\n",
       "      <td>MA-PCAM00020</td>\n",
       "    </tr>\n",
       "    <tr>\n",
       "      <th>10</th>\n",
       "      <td>K19</td>\n",
       "      <td>MA-PCAM00036</td>\n",
       "    </tr>\n",
       "    <tr>\n",
       "      <th>11</th>\n",
       "      <td>D6R4</td>\n",
       "      <td>MA-PBULL0015</td>\n",
       "    </tr>\n",
       "    <tr>\n",
       "      <th>14</th>\n",
       "      <td>K10</td>\n",
       "      <td>MA-PCAM00004</td>\n",
       "    </tr>\n",
       "    <tr>\n",
       "      <th>19</th>\n",
       "      <td>D6H</td>\n",
       "      <td>MA-PBULL0022</td>\n",
       "    </tr>\n",
       "    <tr>\n",
       "      <th>20</th>\n",
       "      <td>PR742</td>\n",
       "      <td>MA-PBULL0019</td>\n",
       "    </tr>\n",
       "    <tr>\n",
       "      <th>31</th>\n",
       "      <td>12K</td>\n",
       "      <td>MA-PNIV00004</td>\n",
       "    </tr>\n",
       "    <tr>\n",
       "      <th>32</th>\n",
       "      <td>K7</td>\n",
       "      <td>MA-PCAM00019</td>\n",
       "    </tr>\n",
       "  </tbody>\n",
       "</table>\n",
       "</div>"
      ],
      "text/plain": [
       "   Unnamed: 2    Unnamed: 5\n",
       "6          K1  MA-PCAM00012\n",
       "8          K9  MA-PCAM00020\n",
       "10        K19  MA-PCAM00036\n",
       "11       D6R4  MA-PBULL0015\n",
       "14        K10  MA-PCAM00004\n",
       "19        D6H  MA-PBULL0022\n",
       "20      PR742  MA-PBULL0019\n",
       "31        12K  MA-PNIV00004\n",
       "32         K7  MA-PCAM00019"
      ]
     },
     "execution_count": 22,
     "metadata": {},
     "output_type": "execute_result"
    }
   ],
   "source": [
    "distinct_couples"
   ]
  },
  {
   "cell_type": "code",
   "execution_count": 26,
   "id": "0d72a71a",
   "metadata": {},
   "outputs": [],
   "source": [
    "df2=pd.read_excel(\"pointage.xlsx\")"
   ]
  },
  {
   "cell_type": "code",
   "execution_count": 27,
   "id": "f58a00c8",
   "metadata": {},
   "outputs": [],
   "source": [
    "df2=df2.dropna()"
   ]
  },
  {
   "cell_type": "code",
   "execution_count": 28,
   "id": "3e9daa36",
   "metadata": {},
   "outputs": [],
   "source": [
    "df2=df2.drop_duplicates()"
   ]
  },
  {
   "cell_type": "code",
   "execution_count": 29,
   "id": "6eb733cb",
   "metadata": {},
   "outputs": [],
   "source": [
    "df2=df2.iloc[1:,:]"
   ]
  },
  {
   "cell_type": "code",
   "execution_count": 31,
   "id": "d91bedf6",
   "metadata": {},
   "outputs": [
    {
     "data": {
      "application/vnd.microsoft.datawrangler.viewer.v0+json": {
       "columns": [
        {
         "name": "index",
         "rawType": "int64",
         "type": "integer"
        },
        {
         "name": "Unnamed: 0",
         "rawType": "object",
         "type": "unknown"
        },
        {
         "name": " ",
         "rawType": "object",
         "type": "string"
        }
       ],
       "conversionMethod": "pd.DataFrame",
       "ref": "8399dc13-b425-46d5-86ea-795f5f6e2173",
       "rows": [
        [
         "3",
         "5602",
         "BOUSEDRA ABDELAZIZ"
        ],
        [
         "5",
         "5604",
         "BOUSEDRA ALI"
        ],
        [
         "7",
         "5616",
         "MAROUI FETHI"
        ],
        [
         "9",
         "5629",
         "AMRI HEDI B HASEN"
        ],
        [
         "11",
         "5648",
         "AMRI SALEM RHOUMA"
        ],
        [
         "13",
         "5649",
         "GUESMI ABDERAZAK"
        ],
        [
         "15",
         "5679",
         "CHERMI ABDELHAMID"
        ],
        [
         "17",
         "5728",
         "LADHIB HABIB"
        ],
        [
         "19",
         "5730",
         "TRIKI NEJI AGREBI"
        ],
        [
         "21",
         "5749",
         "CHAARI MAKRAM"
        ],
        [
         "23",
         "5822",
         "BOUZID KAIS"
        ],
        [
         "25",
         "5836",
         "AMRI FETHI BOULAWAY"
        ],
        [
         "27",
         "5892",
         "AGREBI TRIKI TAHER"
        ],
        [
         "29",
         "5914",
         "AMRI GHOULEM BOULAWAY"
        ],
        [
         "33",
         "TOTAUX",
         "PERSONNES"
        ],
        [
         "52",
         "5916",
         "LADHIB KLIFA"
        ],
        [
         "54",
         "5922",
         "DLENSI NASER"
        ],
        [
         "56",
         "5928",
         "AMRI HAMLI HAMDI"
        ],
        [
         "58",
         "5931",
         "DABBECHE IMED"
        ],
        [
         "60",
         "5933",
         "LADHIB  RIDHA"
        ],
        [
         "62",
         "5936",
         "AMRI ABDALLAH"
        ],
        [
         "64",
         "5948",
         "DLENSI ADEL"
        ],
        [
         "66",
         "5950",
         "LOUSSAEIF MOH ALI"
        ],
        [
         "68",
         "5951",
         "ELHZZAMI HEDI"
        ],
        [
         "70",
         "5952",
         "BEN ABDALLAH ANWER"
        ],
        [
         "72",
         "5954",
         "LOUHICHI LAZHAR"
        ],
        [
         "74",
         "5958",
         "AMRI KAIS"
        ],
        [
         "76",
         "5969",
         "DAMMAK BACEM"
        ],
        [
         "79",
         "5962",
         "AMRI ISMAIL"
        ],
        [
         "81",
         "5967",
         "MSEKNI AYMEN"
        ],
        [
         "83",
         "5982",
         "BAHRI JALEL"
        ],
        [
         "85",
         "5984",
         "BEN HSSINE SEMI"
        ],
        [
         "87",
         "5971",
         "AMRI LOUAY"
        ]
       ],
       "shape": {
        "columns": 2,
        "rows": 33
       }
      },
      "text/html": [
       "<div>\n",
       "<style scoped>\n",
       "    .dataframe tbody tr th:only-of-type {\n",
       "        vertical-align: middle;\n",
       "    }\n",
       "\n",
       "    .dataframe tbody tr th {\n",
       "        vertical-align: top;\n",
       "    }\n",
       "\n",
       "    .dataframe thead th {\n",
       "        text-align: right;\n",
       "    }\n",
       "</style>\n",
       "<table border=\"1\" class=\"dataframe\">\n",
       "  <thead>\n",
       "    <tr style=\"text-align: right;\">\n",
       "      <th></th>\n",
       "      <th>Unnamed: 0</th>\n",
       "      <th></th>\n",
       "    </tr>\n",
       "  </thead>\n",
       "  <tbody>\n",
       "    <tr>\n",
       "      <th>3</th>\n",
       "      <td>5602</td>\n",
       "      <td>BOUSEDRA ABDELAZIZ</td>\n",
       "    </tr>\n",
       "    <tr>\n",
       "      <th>5</th>\n",
       "      <td>5604</td>\n",
       "      <td>BOUSEDRA ALI</td>\n",
       "    </tr>\n",
       "    <tr>\n",
       "      <th>7</th>\n",
       "      <td>5616</td>\n",
       "      <td>MAROUI FETHI</td>\n",
       "    </tr>\n",
       "    <tr>\n",
       "      <th>9</th>\n",
       "      <td>5629</td>\n",
       "      <td>AMRI HEDI B HASEN</td>\n",
       "    </tr>\n",
       "    <tr>\n",
       "      <th>11</th>\n",
       "      <td>5648</td>\n",
       "      <td>AMRI SALEM RHOUMA</td>\n",
       "    </tr>\n",
       "    <tr>\n",
       "      <th>13</th>\n",
       "      <td>5649</td>\n",
       "      <td>GUESMI ABDERAZAK</td>\n",
       "    </tr>\n",
       "    <tr>\n",
       "      <th>15</th>\n",
       "      <td>5679</td>\n",
       "      <td>CHERMI ABDELHAMID</td>\n",
       "    </tr>\n",
       "    <tr>\n",
       "      <th>17</th>\n",
       "      <td>5728</td>\n",
       "      <td>LADHIB HABIB</td>\n",
       "    </tr>\n",
       "    <tr>\n",
       "      <th>19</th>\n",
       "      <td>5730</td>\n",
       "      <td>TRIKI NEJI AGREBI</td>\n",
       "    </tr>\n",
       "    <tr>\n",
       "      <th>21</th>\n",
       "      <td>5749</td>\n",
       "      <td>CHAARI MAKRAM</td>\n",
       "    </tr>\n",
       "    <tr>\n",
       "      <th>23</th>\n",
       "      <td>5822</td>\n",
       "      <td>BOUZID KAIS</td>\n",
       "    </tr>\n",
       "    <tr>\n",
       "      <th>25</th>\n",
       "      <td>5836</td>\n",
       "      <td>AMRI FETHI BOULAWAY</td>\n",
       "    </tr>\n",
       "    <tr>\n",
       "      <th>27</th>\n",
       "      <td>5892</td>\n",
       "      <td>AGREBI TRIKI TAHER</td>\n",
       "    </tr>\n",
       "    <tr>\n",
       "      <th>29</th>\n",
       "      <td>5914</td>\n",
       "      <td>AMRI GHOULEM BOULAWAY</td>\n",
       "    </tr>\n",
       "    <tr>\n",
       "      <th>33</th>\n",
       "      <td>TOTAUX</td>\n",
       "      <td>PERSONNES</td>\n",
       "    </tr>\n",
       "    <tr>\n",
       "      <th>52</th>\n",
       "      <td>5916</td>\n",
       "      <td>LADHIB KLIFA</td>\n",
       "    </tr>\n",
       "    <tr>\n",
       "      <th>54</th>\n",
       "      <td>5922</td>\n",
       "      <td>DLENSI NASER</td>\n",
       "    </tr>\n",
       "    <tr>\n",
       "      <th>56</th>\n",
       "      <td>5928</td>\n",
       "      <td>AMRI HAMLI HAMDI</td>\n",
       "    </tr>\n",
       "    <tr>\n",
       "      <th>58</th>\n",
       "      <td>5931</td>\n",
       "      <td>DABBECHE IMED</td>\n",
       "    </tr>\n",
       "    <tr>\n",
       "      <th>60</th>\n",
       "      <td>5933</td>\n",
       "      <td>LADHIB  RIDHA</td>\n",
       "    </tr>\n",
       "    <tr>\n",
       "      <th>62</th>\n",
       "      <td>5936</td>\n",
       "      <td>AMRI ABDALLAH</td>\n",
       "    </tr>\n",
       "    <tr>\n",
       "      <th>64</th>\n",
       "      <td>5948</td>\n",
       "      <td>DLENSI ADEL</td>\n",
       "    </tr>\n",
       "    <tr>\n",
       "      <th>66</th>\n",
       "      <td>5950</td>\n",
       "      <td>LOUSSAEIF MOH ALI</td>\n",
       "    </tr>\n",
       "    <tr>\n",
       "      <th>68</th>\n",
       "      <td>5951</td>\n",
       "      <td>ELHZZAMI HEDI</td>\n",
       "    </tr>\n",
       "    <tr>\n",
       "      <th>70</th>\n",
       "      <td>5952</td>\n",
       "      <td>BEN ABDALLAH ANWER</td>\n",
       "    </tr>\n",
       "    <tr>\n",
       "      <th>72</th>\n",
       "      <td>5954</td>\n",
       "      <td>LOUHICHI LAZHAR</td>\n",
       "    </tr>\n",
       "    <tr>\n",
       "      <th>74</th>\n",
       "      <td>5958</td>\n",
       "      <td>AMRI KAIS</td>\n",
       "    </tr>\n",
       "    <tr>\n",
       "      <th>76</th>\n",
       "      <td>5969</td>\n",
       "      <td>DAMMAK BACEM</td>\n",
       "    </tr>\n",
       "    <tr>\n",
       "      <th>79</th>\n",
       "      <td>5962</td>\n",
       "      <td>AMRI ISMAIL</td>\n",
       "    </tr>\n",
       "    <tr>\n",
       "      <th>81</th>\n",
       "      <td>5967</td>\n",
       "      <td>MSEKNI AYMEN</td>\n",
       "    </tr>\n",
       "    <tr>\n",
       "      <th>83</th>\n",
       "      <td>5982</td>\n",
       "      <td>BAHRI JALEL</td>\n",
       "    </tr>\n",
       "    <tr>\n",
       "      <th>85</th>\n",
       "      <td>5984</td>\n",
       "      <td>BEN HSSINE SEMI</td>\n",
       "    </tr>\n",
       "    <tr>\n",
       "      <th>87</th>\n",
       "      <td>5971</td>\n",
       "      <td>AMRI LOUAY</td>\n",
       "    </tr>\n",
       "  </tbody>\n",
       "</table>\n",
       "</div>"
      ],
      "text/plain": [
       "   Unnamed: 0                       \n",
       "3        5602     BOUSEDRA ABDELAZIZ\n",
       "5        5604           BOUSEDRA ALI\n",
       "7        5616           MAROUI FETHI\n",
       "9        5629      AMRI HEDI B HASEN\n",
       "11       5648      AMRI SALEM RHOUMA\n",
       "13       5649       GUESMI ABDERAZAK\n",
       "15       5679      CHERMI ABDELHAMID\n",
       "17       5728           LADHIB HABIB\n",
       "19       5730      TRIKI NEJI AGREBI\n",
       "21       5749          CHAARI MAKRAM\n",
       "23       5822            BOUZID KAIS\n",
       "25       5836    AMRI FETHI BOULAWAY\n",
       "27       5892     AGREBI TRIKI TAHER\n",
       "29       5914  AMRI GHOULEM BOULAWAY\n",
       "33     TOTAUX              PERSONNES\n",
       "52       5916           LADHIB KLIFA\n",
       "54       5922           DLENSI NASER\n",
       "56       5928       AMRI HAMLI HAMDI\n",
       "58       5931          DABBECHE IMED\n",
       "60       5933          LADHIB  RIDHA\n",
       "62       5936          AMRI ABDALLAH\n",
       "64       5948            DLENSI ADEL\n",
       "66       5950      LOUSSAEIF MOH ALI\n",
       "68       5951          ELHZZAMI HEDI\n",
       "70       5952     BEN ABDALLAH ANWER\n",
       "72       5954        LOUHICHI LAZHAR\n",
       "74       5958              AMRI KAIS\n",
       "76       5969           DAMMAK BACEM\n",
       "79       5962            AMRI ISMAIL\n",
       "81       5967           MSEKNI AYMEN\n",
       "83       5982            BAHRI JALEL\n",
       "85       5984        BEN HSSINE SEMI\n",
       "87       5971             AMRI LOUAY"
      ]
     },
     "execution_count": 31,
     "metadata": {},
     "output_type": "execute_result"
    }
   ],
   "source": [
    "df2"
   ]
  },
  {
   "cell_type": "code",
   "execution_count": 30,
   "id": "a4000618",
   "metadata": {},
   "outputs": [
    {
     "data": {
      "text/plain": [
       "Index(['Unnamed: 0', ' '], dtype='object')"
      ]
     },
     "execution_count": 30,
     "metadata": {},
     "output_type": "execute_result"
    }
   ],
   "source": [
    "df2.columns"
   ]
  },
  {
   "cell_type": "code",
   "execution_count": 32,
   "id": "b322e527",
   "metadata": {},
   "outputs": [
    {
     "name": "stdout",
     "output_type": "stream",
     "text": [
      "Inserted: 5602 | BOUSEDRA ABDELAZIZ\n",
      "Inserted: 5604 | BOUSEDRA ALI\n",
      "Inserted: 5616 | MAROUI FETHI\n",
      "Inserted: 5629 | AMRI HEDI B HASEN\n",
      "Inserted: 5648 | AMRI SALEM RHOUMA\n",
      "Inserted: 5649 | GUESMI ABDERAZAK\n",
      "Inserted: 5679 | CHERMI ABDELHAMID\n",
      "Inserted: 5728 | LADHIB HABIB\n",
      "Inserted: 5730 | TRIKI NEJI AGREBI\n",
      "Inserted: 5749 | CHAARI MAKRAM\n",
      "Inserted: 5822 | BOUZID KAIS\n",
      "Inserted: 5836 | AMRI FETHI BOULAWAY\n",
      "Inserted: 5892 | AGREBI TRIKI TAHER\n",
      "Inserted: 5914 | AMRI GHOULEM BOULAWAY\n",
      "Inserted: TOTAUX | PERSONNES\n",
      "Inserted: 5916 | LADHIB KLIFA\n",
      "Inserted: 5922 | DLENSI NASER\n",
      "Inserted: 5928 | AMRI HAMLI HAMDI\n",
      "Inserted: 5931 | DABBECHE IMED\n",
      "Inserted: 5933 | LADHIB  RIDHA\n",
      "Inserted: 5936 | AMRI ABDALLAH\n",
      "Inserted: 5948 | DLENSI ADEL\n",
      "Inserted: 5950 | LOUSSAEIF MOH ALI\n",
      "Inserted: 5951 | ELHZZAMI HEDI\n",
      "Inserted: 5952 | BEN ABDALLAH ANWER\n",
      "Inserted: 5954 | LOUHICHI LAZHAR\n",
      "Inserted: 5958 | AMRI KAIS\n",
      "Inserted: 5969 | DAMMAK BACEM\n",
      "Inserted: 5962 | AMRI ISMAIL\n",
      "Inserted: 5967 | MSEKNI AYMEN\n",
      "Inserted: 5982 | BAHRI JALEL\n",
      "Inserted: 5984 | BEN HSSINE SEMI\n",
      "Inserted: 5971 | AMRI LOUAY\n"
     ]
    }
   ],
   "source": [
    "import pandas as pd\n",
    "import sqlite3\n",
    "import time\n",
    "\n",
    "\n",
    "# Open the connection\n",
    "conn = sqlite3.connect('db.sqlite3', timeout=10)  # Increase timeout\n",
    "cursor = conn.cursor()\n",
    "\n",
    "\n",
    "# Insert with retry\n",
    "for index, row in df2.iterrows():\n",
    "    for attempt in range(3):  # try 3 times\n",
    "        try:\n",
    "            cursor.execute('''\n",
    "                INSERT INTO api_technician (id_technician, name)\n",
    "                VALUES (?, ?)\n",
    "            ''', (row[\"Unnamed: 0\"], row[\" \"]))\n",
    "            print(f\"Inserted: {row['Unnamed: 0']} | {row[' ']}\")\n",
    "            break\n",
    "        except sqlite3.OperationalError as e:\n",
    "            if \"locked\" in str(e):\n",
    "                print(\"Database is locked. Retrying...\")\n",
    "                time.sleep(1)\n",
    "            else:\n",
    "                raise\n",
    "\n",
    "# Commit & close\n",
    "conn.commit()\n",
    "conn.close()\n"
   ]
  },
  {
   "cell_type": "code",
   "execution_count": null,
   "id": "3ad60fb7",
   "metadata": {},
   "outputs": [],
   "source": []
  }
 ],
 "metadata": {
  "kernelspec": {
   "display_name": "Python 3",
   "language": "python",
   "name": "python3"
  },
  "language_info": {
   "codemirror_mode": {
    "name": "ipython",
    "version": 3
   },
   "file_extension": ".py",
   "mimetype": "text/x-python",
   "name": "python",
   "nbconvert_exporter": "python",
   "pygments_lexer": "ipython3",
   "version": "3.9.10"
  }
 },
 "nbformat": 4,
 "nbformat_minor": 5
}
